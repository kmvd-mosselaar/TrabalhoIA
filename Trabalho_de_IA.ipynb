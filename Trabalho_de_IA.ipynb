{
  "cells": [
    {
      "cell_type": "markdown",
      "metadata": {
        "id": "PYDVEQV_cvTr"
      },
      "source": [
        "# Exploração e pré-processamento dos dados"
      ]
    },
    {
      "cell_type": "code",
      "execution_count": null,
      "metadata": {
        "colab": {
          "base_uri": "https://localhost:8080/"
        },
        "id": "jcoBarXIc7zX",
        "outputId": "06754973-e6d2-4a55-dd52-104ad7003dac"
      },
      "outputs": [
        {
          "name": "stdout",
          "output_type": "stream",
          "text": [
            "Requirement already satisfied: pandas in /usr/local/lib/python3.11/dist-packages (2.2.2)\n",
            "Requirement already satisfied: matplotlib in /usr/local/lib/python3.11/dist-packages (3.10.0)\n",
            "Requirement already satisfied: seaborn in /usr/local/lib/python3.11/dist-packages (0.13.2)\n",
            "Requirement already satisfied: numpy>=1.23.2 in /usr/local/lib/python3.11/dist-packages (from pandas) (2.0.2)\n",
            "Requirement already satisfied: python-dateutil>=2.8.2 in /usr/local/lib/python3.11/dist-packages (from pandas) (2.9.0.post0)\n",
            "Requirement already satisfied: pytz>=2020.1 in /usr/local/lib/python3.11/dist-packages (from pandas) (2025.2)\n",
            "Requirement already satisfied: tzdata>=2022.7 in /usr/local/lib/python3.11/dist-packages (from pandas) (2025.2)\n",
            "Requirement already satisfied: contourpy>=1.0.1 in /usr/local/lib/python3.11/dist-packages (from matplotlib) (1.3.2)\n",
            "Requirement already satisfied: cycler>=0.10 in /usr/local/lib/python3.11/dist-packages (from matplotlib) (0.12.1)\n",
            "Requirement already satisfied: fonttools>=4.22.0 in /usr/local/lib/python3.11/dist-packages (from matplotlib) (4.58.5)\n",
            "Requirement already satisfied: kiwisolver>=1.3.1 in /usr/local/lib/python3.11/dist-packages (from matplotlib) (1.4.8)\n",
            "Requirement already satisfied: packaging>=20.0 in /usr/local/lib/python3.11/dist-packages (from matplotlib) (24.2)\n",
            "Requirement already satisfied: pillow>=8 in /usr/local/lib/python3.11/dist-packages (from matplotlib) (11.2.1)\n",
            "Requirement already satisfied: pyparsing>=2.3.1 in /usr/local/lib/python3.11/dist-packages (from matplotlib) (3.2.3)\n",
            "Requirement already satisfied: six>=1.5 in /usr/local/lib/python3.11/dist-packages (from python-dateutil>=2.8.2->pandas) (1.17.0)\n"
          ]
        }
      ],
      "source": [
        "!pip install pandas matplotlib seaborn"
      ]
    },
    {
      "cell_type": "code",
      "execution_count": 3,
      "metadata": {
        "colab": {
          "base_uri": "https://localhost:8080/",
          "height": 206
        },
        "id": "FO1_IYNOdY93",
        "outputId": "8a971036-847f-459d-f25d-0c5dca5f6d14"
      },
      "outputs": [
        {
          "data": {
            "application/vnd.google.colaboratory.intrinsic+json": {
              "summary": "{\n  \"name\": \"df_all\",\n  \"rows\": 44898,\n  \"fields\": [\n    {\n      \"column\": \"title\",\n      \"properties\": {\n        \"dtype\": \"string\",\n        \"num_unique_values\": 38729,\n        \"samples\": [\n          \" Trump Can\\u2019t Even Spell Sarah Palin\\u2019s Name Correctly On His Website (IMAGE)\",\n          \"As tricky coalition talks loom, Merkel hopes for regional poll boost\",\n          \"WOW! LIBERAL ELECTION FRAUD EXPERT: Trump Landslide Was Enough To Counter Potential Massive Voter Fraud Effort By Hillary Campaign [VIDEO]\"\n        ],\n        \"semantic_type\": \"\",\n        \"description\": \"\"\n      }\n    },\n    {\n      \"column\": \"text\",\n      \"properties\": {\n        \"dtype\": \"string\",\n        \"num_unique_values\": 38646,\n        \"samples\": [\n          \"GENEVA (Reuters) - Myanmar told the United Nations on Tuesday that it was finalizing terms for a joint working group with Bangladesh that will launch the process of safe and voluntary return of hundreds of thousands of Rohingya refugees within about two months. Htin Lynn, Myanmar s ambassador to the U.N. in Geneva, told a special session of the Human Rights Council that his government was ready to work with all international partners to ensure the  voluntary, safe, dignified and sustainable repatriation  and resettlement of the displaced - whom he did not refer to as Rohingya.   There will be no camps,  he added.  \",\n          \"One of the guests at what Trump calls the  Winter White House    his private business in Florida  really got to feel the privilege associated with being able to drop $200,000 on a membership fee to gain access to the President on Saturday. Guests were treated to quite a bit of excitement when a call came in that North Korea had launched a missile and Trump read over confidential documents in full view of everyone as his white supremacist staffers held their cell phones  flashlights on it so he could see properly at the dinner table.Richard DeAgazio, one of the rich guests who somehow gets access to the President simply by paying him money, posted about watching Trump deal with the North Korea news   complete with photos of Trump reviewing information that is supposed to be secure.But that s not all DeAgazio posted! He also snapped a photo with the guy whose job it is to carry the  nuclear football.  Now the existence of the  football  is, of course, not a national secret. Hillary Clinton, for example, warned us that it is dangerous to place something so dangerous in Donald Trump s care. But DeAgazio made sure our enemies know who has it, what he looks like, and what his name is. This is Rick He carries the  football  The nuclear football (also known as the atomic football, the President s emergency satchel, the Presidential Emergency Satchel, the button, the black box, or just the football) is a briefcase, the contents of which are to be used by the President of the United States to authorize a nuclear attack while away from fixed command centers, such as the White House Situation Room,  he posted on Facebook along with a photo of Rick, whom he says is the Man. All it costs is $200,000 and literally anyone is able to get within inches of access to our nuclear secrets   an interesting fact given The Donald s constant stream of attacks on Hillary Clinton simply for using a private email server. This, of course, is a small matter when compared to Trump s friends exposing details related to our national secrets on social media in real time.I never want to hear about emails again. On the plus, we finally figured out what it takes for one of Trump s rich white buddies to be willing to touch a black man.Featured image via Facebook\",\n          \"Here s one of the few true PATRIOTS in Congress! Justin Amash is always doing the right thing with the best interests of the American people in mind. We can t say that about many of our RINO Congressman! Thank goodness Amash is calling attention to The Cybersecurity Act of 2015 it s not what you think it is!Congressman Justin Amash (R-Mich.) plans to introduce legislation to undo a cybersecurity law that critics say secretly allows the federal government to spy on Americans.The Cybersecurity Act of 2015 was included in Congress  year-end spending bill, a piece of must-pass legislation known as the omnibus. Many of my colleagues remain unaware that a massive surveillance bill was snuck into the omnibus,  Amash said in a statement provided to the Daily Dot.  And if they are aware, they may have been misled into believing this bill is about cybersecurity. On Dec. 18, the House passed the end-of-year omnibus bill, a $1.8 trillion catch-all that included everything from repeals of oil export bans to increased funding for the International Monetary Fund. Two days before its inevitable passage, lawmakers updated the bill to include language from the Cyber Information Sharing Act (CISA), a bill that makes it easier for companies to share details of cyberattacks with the government but is universally loathed by privacy advocates.The Cybersecurity Act of 2015 allows companies like Facebook, Google, or Visa to share cyber threat data digital evidence of a cyberattack with the Department of Homeland Security. It also grants American firms immunity from prosecution for sharing data that may include customers  personal data. Ultimately this will be fairly embarrassing for Congress.  Proponents of the bill say it will help protect companies and their customers from data breaches and other cyberattacks. Critics believe the new law would allow government agencies to more easily access Americans  personal information and share it with the National Security Agency. An analysis by the Open Technology Institute found citizens  privacy would be more adversely affected by the final language of the omnibus bill than by CISA drafts. Just like the Patriot Act, [Congress] re-wrote the final [omnibus] bill in secret and snuck it through Congress before most people could even read it,  Nathan White, Senior Legislative Manager at Access, an Internet freedom-supporting nonprofit, told the Daily Dot.  And just like the Patriot Act, the bill will be used for far more than what Members of Congress think that they are authorizing. Ultimately this will be fairly embarrassing for Congress. Amash opposed CISA s language in the bill before it passed, going so far as to circulate a letter citing tech companies  opposition and calling it  anti-privacy legislation,  but to little avail. Amash is part of the House Freedom Caucus, which, citing the omnibus s large price tag, had already vowed to oppose the bill anyway, forcing House Speaker Paul Ryan (R-Wisc.) to find votes elsewhere.Read more: Daily Dot\"\n        ],\n        \"semantic_type\": \"\",\n        \"description\": \"\"\n      }\n    },\n    {\n      \"column\": \"subject\",\n      \"properties\": {\n        \"dtype\": \"category\",\n        \"num_unique_values\": 8,\n        \"samples\": [\n          \"worldnews\",\n          \"Government News\",\n          \"News\"\n        ],\n        \"semantic_type\": \"\",\n        \"description\": \"\"\n      }\n    },\n    {\n      \"column\": \"date\",\n      \"properties\": {\n        \"dtype\": \"category\",\n        \"num_unique_values\": 2397,\n        \"samples\": [\n          \"May 26, 2016\",\n          \"March 9, 2017 \",\n          \"Sep 23, 2015\"\n        ],\n        \"semantic_type\": \"\",\n        \"description\": \"\"\n      }\n    },\n    {\n      \"column\": \"label\",\n      \"properties\": {\n        \"dtype\": \"number\",\n        \"std\": 0,\n        \"min\": 0,\n        \"max\": 1,\n        \"num_unique_values\": 2,\n        \"samples\": [\n          1,\n          0\n        ],\n        \"semantic_type\": \"\",\n        \"description\": \"\"\n      }\n    }\n  ]\n}",
              "type": "dataframe",
              "variable_name": "df_all"
            },
            "text/html": [
              "\n",
              "  <div id=\"df-354ce242-fbc0-440c-82c5-055e6a76dd4d\" class=\"colab-df-container\">\n",
              "    <div>\n",
              "<style scoped>\n",
              "    .dataframe tbody tr th:only-of-type {\n",
              "        vertical-align: middle;\n",
              "    }\n",
              "\n",
              "    .dataframe tbody tr th {\n",
              "        vertical-align: top;\n",
              "    }\n",
              "\n",
              "    .dataframe thead th {\n",
              "        text-align: right;\n",
              "    }\n",
              "</style>\n",
              "<table border=\"1\" class=\"dataframe\">\n",
              "  <thead>\n",
              "    <tr style=\"text-align: right;\">\n",
              "      <th></th>\n",
              "      <th>title</th>\n",
              "      <th>text</th>\n",
              "      <th>subject</th>\n",
              "      <th>date</th>\n",
              "      <th>label</th>\n",
              "    </tr>\n",
              "  </thead>\n",
              "  <tbody>\n",
              "    <tr>\n",
              "      <th>0</th>\n",
              "      <td>Greedy Trump Cuts Takes Housing Money Away Fr...</td>\n",
              "      <td>Donald Trump s budget is all about punishing t...</td>\n",
              "      <td>News</td>\n",
              "      <td>June 21, 2017</td>\n",
              "      <td>0</td>\n",
              "    </tr>\n",
              "    <tr>\n",
              "      <th>1</th>\n",
              "      <td>Insight: Rap and the Party: China taps youth c...</td>\n",
              "      <td>BEIJING (Reuters) - In his baseball cap and b...</td>\n",
              "      <td>worldnews</td>\n",
              "      <td>October 16, 2017</td>\n",
              "      <td>1</td>\n",
              "    </tr>\n",
              "    <tr>\n",
              "      <th>2</th>\n",
              "      <td>'Political mainstream', Corbyn says Britain's ...</td>\n",
              "      <td>BRIGHTON, England (Reuters) - Opposition leade...</td>\n",
              "      <td>worldnews</td>\n",
              "      <td>September 26, 2017</td>\n",
              "      <td>1</td>\n",
              "    </tr>\n",
              "    <tr>\n",
              "      <th>3</th>\n",
              "      <td>'Lips and teeth' no more as China's ties with ...</td>\n",
              "      <td>BEIJING (Reuters) - When Kim Jong Un inherited...</td>\n",
              "      <td>worldnews</td>\n",
              "      <td>September 8, 2017</td>\n",
              "      <td>1</td>\n",
              "    </tr>\n",
              "    <tr>\n",
              "      <th>4</th>\n",
              "      <td>WATCH: Dr. Ben Carson Explains Why He’s Endors...</td>\n",
              "      <td>There are two different Donald Trump s Here s...</td>\n",
              "      <td>politics</td>\n",
              "      <td>Mar 11, 2016</td>\n",
              "      <td>0</td>\n",
              "    </tr>\n",
              "  </tbody>\n",
              "</table>\n",
              "</div>\n",
              "    <div class=\"colab-df-buttons\">\n",
              "\n",
              "  <div class=\"colab-df-container\">\n",
              "    <button class=\"colab-df-convert\" onclick=\"convertToInteractive('df-354ce242-fbc0-440c-82c5-055e6a76dd4d')\"\n",
              "            title=\"Convert this dataframe to an interactive table.\"\n",
              "            style=\"display:none;\">\n",
              "\n",
              "  <svg xmlns=\"http://www.w3.org/2000/svg\" height=\"24px\" viewBox=\"0 -960 960 960\">\n",
              "    <path d=\"M120-120v-720h720v720H120Zm60-500h600v-160H180v160Zm220 220h160v-160H400v160Zm0 220h160v-160H400v160ZM180-400h160v-160H180v160Zm440 0h160v-160H620v160ZM180-180h160v-160H180v160Zm440 0h160v-160H620v160Z\"/>\n",
              "  </svg>\n",
              "    </button>\n",
              "\n",
              "  <style>\n",
              "    .colab-df-container {\n",
              "      display:flex;\n",
              "      gap: 12px;\n",
              "    }\n",
              "\n",
              "    .colab-df-convert {\n",
              "      background-color: #E8F0FE;\n",
              "      border: none;\n",
              "      border-radius: 50%;\n",
              "      cursor: pointer;\n",
              "      display: none;\n",
              "      fill: #1967D2;\n",
              "      height: 32px;\n",
              "      padding: 0 0 0 0;\n",
              "      width: 32px;\n",
              "    }\n",
              "\n",
              "    .colab-df-convert:hover {\n",
              "      background-color: #E2EBFA;\n",
              "      box-shadow: 0px 1px 2px rgba(60, 64, 67, 0.3), 0px 1px 3px 1px rgba(60, 64, 67, 0.15);\n",
              "      fill: #174EA6;\n",
              "    }\n",
              "\n",
              "    .colab-df-buttons div {\n",
              "      margin-bottom: 4px;\n",
              "    }\n",
              "\n",
              "    [theme=dark] .colab-df-convert {\n",
              "      background-color: #3B4455;\n",
              "      fill: #D2E3FC;\n",
              "    }\n",
              "\n",
              "    [theme=dark] .colab-df-convert:hover {\n",
              "      background-color: #434B5C;\n",
              "      box-shadow: 0px 1px 3px 1px rgba(0, 0, 0, 0.15);\n",
              "      filter: drop-shadow(0px 1px 2px rgba(0, 0, 0, 0.3));\n",
              "      fill: #FFFFFF;\n",
              "    }\n",
              "  </style>\n",
              "\n",
              "    <script>\n",
              "      const buttonEl =\n",
              "        document.querySelector('#df-354ce242-fbc0-440c-82c5-055e6a76dd4d button.colab-df-convert');\n",
              "      buttonEl.style.display =\n",
              "        google.colab.kernel.accessAllowed ? 'block' : 'none';\n",
              "\n",
              "      async function convertToInteractive(key) {\n",
              "        const element = document.querySelector('#df-354ce242-fbc0-440c-82c5-055e6a76dd4d');\n",
              "        const dataTable =\n",
              "          await google.colab.kernel.invokeFunction('convertToInteractive',\n",
              "                                                    [key], {});\n",
              "        if (!dataTable) return;\n",
              "\n",
              "        const docLinkHtml = 'Like what you see? Visit the ' +\n",
              "          '<a target=\"_blank\" href=https://colab.research.google.com/notebooks/data_table.ipynb>data table notebook</a>'\n",
              "          + ' to learn more about interactive tables.';\n",
              "        element.innerHTML = '';\n",
              "        dataTable['output_type'] = 'display_data';\n",
              "        await google.colab.output.renderOutput(dataTable, element);\n",
              "        const docLink = document.createElement('div');\n",
              "        docLink.innerHTML = docLinkHtml;\n",
              "        element.appendChild(docLink);\n",
              "      }\n",
              "    </script>\n",
              "  </div>\n",
              "\n",
              "\n",
              "    <div id=\"df-3e230a79-f6f6-44a8-b713-5c22584620b7\">\n",
              "      <button class=\"colab-df-quickchart\" onclick=\"quickchart('df-3e230a79-f6f6-44a8-b713-5c22584620b7')\"\n",
              "                title=\"Suggest charts\"\n",
              "                style=\"display:none;\">\n",
              "\n",
              "<svg xmlns=\"http://www.w3.org/2000/svg\" height=\"24px\"viewBox=\"0 0 24 24\"\n",
              "     width=\"24px\">\n",
              "    <g>\n",
              "        <path d=\"M19 3H5c-1.1 0-2 .9-2 2v14c0 1.1.9 2 2 2h14c1.1 0 2-.9 2-2V5c0-1.1-.9-2-2-2zM9 17H7v-7h2v7zm4 0h-2V7h2v10zm4 0h-2v-4h2v4z\"/>\n",
              "    </g>\n",
              "</svg>\n",
              "      </button>\n",
              "\n",
              "<style>\n",
              "  .colab-df-quickchart {\n",
              "      --bg-color: #E8F0FE;\n",
              "      --fill-color: #1967D2;\n",
              "      --hover-bg-color: #E2EBFA;\n",
              "      --hover-fill-color: #174EA6;\n",
              "      --disabled-fill-color: #AAA;\n",
              "      --disabled-bg-color: #DDD;\n",
              "  }\n",
              "\n",
              "  [theme=dark] .colab-df-quickchart {\n",
              "      --bg-color: #3B4455;\n",
              "      --fill-color: #D2E3FC;\n",
              "      --hover-bg-color: #434B5C;\n",
              "      --hover-fill-color: #FFFFFF;\n",
              "      --disabled-bg-color: #3B4455;\n",
              "      --disabled-fill-color: #666;\n",
              "  }\n",
              "\n",
              "  .colab-df-quickchart {\n",
              "    background-color: var(--bg-color);\n",
              "    border: none;\n",
              "    border-radius: 50%;\n",
              "    cursor: pointer;\n",
              "    display: none;\n",
              "    fill: var(--fill-color);\n",
              "    height: 32px;\n",
              "    padding: 0;\n",
              "    width: 32px;\n",
              "  }\n",
              "\n",
              "  .colab-df-quickchart:hover {\n",
              "    background-color: var(--hover-bg-color);\n",
              "    box-shadow: 0 1px 2px rgba(60, 64, 67, 0.3), 0 1px 3px 1px rgba(60, 64, 67, 0.15);\n",
              "    fill: var(--button-hover-fill-color);\n",
              "  }\n",
              "\n",
              "  .colab-df-quickchart-complete:disabled,\n",
              "  .colab-df-quickchart-complete:disabled:hover {\n",
              "    background-color: var(--disabled-bg-color);\n",
              "    fill: var(--disabled-fill-color);\n",
              "    box-shadow: none;\n",
              "  }\n",
              "\n",
              "  .colab-df-spinner {\n",
              "    border: 2px solid var(--fill-color);\n",
              "    border-color: transparent;\n",
              "    border-bottom-color: var(--fill-color);\n",
              "    animation:\n",
              "      spin 1s steps(1) infinite;\n",
              "  }\n",
              "\n",
              "  @keyframes spin {\n",
              "    0% {\n",
              "      border-color: transparent;\n",
              "      border-bottom-color: var(--fill-color);\n",
              "      border-left-color: var(--fill-color);\n",
              "    }\n",
              "    20% {\n",
              "      border-color: transparent;\n",
              "      border-left-color: var(--fill-color);\n",
              "      border-top-color: var(--fill-color);\n",
              "    }\n",
              "    30% {\n",
              "      border-color: transparent;\n",
              "      border-left-color: var(--fill-color);\n",
              "      border-top-color: var(--fill-color);\n",
              "      border-right-color: var(--fill-color);\n",
              "    }\n",
              "    40% {\n",
              "      border-color: transparent;\n",
              "      border-right-color: var(--fill-color);\n",
              "      border-top-color: var(--fill-color);\n",
              "    }\n",
              "    60% {\n",
              "      border-color: transparent;\n",
              "      border-right-color: var(--fill-color);\n",
              "    }\n",
              "    80% {\n",
              "      border-color: transparent;\n",
              "      border-right-color: var(--fill-color);\n",
              "      border-bottom-color: var(--fill-color);\n",
              "    }\n",
              "    90% {\n",
              "      border-color: transparent;\n",
              "      border-bottom-color: var(--fill-color);\n",
              "    }\n",
              "  }\n",
              "</style>\n",
              "\n",
              "      <script>\n",
              "        async function quickchart(key) {\n",
              "          const quickchartButtonEl =\n",
              "            document.querySelector('#' + key + ' button');\n",
              "          quickchartButtonEl.disabled = true;  // To prevent multiple clicks.\n",
              "          quickchartButtonEl.classList.add('colab-df-spinner');\n",
              "          try {\n",
              "            const charts = await google.colab.kernel.invokeFunction(\n",
              "                'suggestCharts', [key], {});\n",
              "          } catch (error) {\n",
              "            console.error('Error during call to suggestCharts:', error);\n",
              "          }\n",
              "          quickchartButtonEl.classList.remove('colab-df-spinner');\n",
              "          quickchartButtonEl.classList.add('colab-df-quickchart-complete');\n",
              "        }\n",
              "        (() => {\n",
              "          let quickchartButtonEl =\n",
              "            document.querySelector('#df-3e230a79-f6f6-44a8-b713-5c22584620b7 button');\n",
              "          quickchartButtonEl.style.display =\n",
              "            google.colab.kernel.accessAllowed ? 'block' : 'none';\n",
              "        })();\n",
              "      </script>\n",
              "    </div>\n",
              "\n",
              "    </div>\n",
              "  </div>\n"
            ],
            "text/plain": [
              "                                               title  \\\n",
              "0   Greedy Trump Cuts Takes Housing Money Away Fr...   \n",
              "1  Insight: Rap and the Party: China taps youth c...   \n",
              "2  'Political mainstream', Corbyn says Britain's ...   \n",
              "3  'Lips and teeth' no more as China's ties with ...   \n",
              "4  WATCH: Dr. Ben Carson Explains Why He’s Endors...   \n",
              "\n",
              "                                                text    subject  \\\n",
              "0  Donald Trump s budget is all about punishing t...       News   \n",
              "1   BEIJING (Reuters) - In his baseball cap and b...  worldnews   \n",
              "2  BRIGHTON, England (Reuters) - Opposition leade...  worldnews   \n",
              "3  BEIJING (Reuters) - When Kim Jong Un inherited...  worldnews   \n",
              "4   There are two different Donald Trump s Here s...   politics   \n",
              "\n",
              "                  date  label  \n",
              "0        June 21, 2017      0  \n",
              "1    October 16, 2017       1  \n",
              "2  September 26, 2017       1  \n",
              "3   September 8, 2017       1  \n",
              "4         Mar 11, 2016      0  "
            ]
          },
          "execution_count": 3,
          "metadata": {},
          "output_type": "execute_result"
        }
      ],
      "source": [
        "import pandas as pd\n",
        "import matplotlib.pyplot as plt\n",
        "import seaborn as sns\n",
        "\n",
        "# Carregar o dataset\n",
        "df = pd.read_csv(\"Fake.csv\")\n",
        "df_real = pd.read_csv(\"True.csv\")\n",
        "\n",
        "# Adicionar rótulo\n",
        "df['label'] = 0  # Fake\n",
        "df_real['label'] = 1  # Real\n",
        "\n",
        "# Unir os dois\n",
        "df_all = pd.concat([df, df_real])\n",
        "df_all = df_all.sample(frac=1).reset_index(drop=True)\n",
        "\n",
        "# Ver primeiras linhas\n",
        "df_all.head()"
      ]
    },
    {
      "cell_type": "code",
      "execution_count": null,
      "metadata": {
        "id": "5jqcU3EodnKU"
      },
      "outputs": [],
      "source": [
        "sns.countplot(x='label', data=df_all)\n",
        "plt.title(\"Distribuição de Notícias Falsas e Reais\")\n",
        "plt.xticks([0,1], ['Fake', 'Real'])\n",
        "plt.show()"
      ]
    },
    {
      "cell_type": "markdown",
      "metadata": {
        "id": "6-gwJD6bdyns"
      },
      "source": [
        "## Pré-processamento de texto (PLN)"
      ]
    },
    {
      "cell_type": "markdown",
      "metadata": {
        "id": "MJQlPhikd9fw"
      },
      "source": [
        "limpeza dos dados"
      ]
    },
    {
      "cell_type": "code",
      "execution_count": 4,
      "metadata": {
        "colab": {
          "base_uri": "https://localhost:8080/"
        },
        "id": "p-X6pjPieEFZ",
        "outputId": "3ccfb444-36f5-4d0a-a357-74362014948b"
      },
      "outputs": [
        {
          "name": "stderr",
          "output_type": "stream",
          "text": [
            "[nltk_data] Downloading package stopwords to /root/nltk_data...\n",
            "[nltk_data]   Unzipping corpora/stopwords.zip.\n"
          ]
        }
      ],
      "source": [
        "import re # expressões regulares\n",
        "import nltk # usada para processamento de linguagem natural\n",
        "from nltk.corpus import stopwords # conjunto de palavras irrelevantes (stopwords) da NLTK\n",
        "from nltk.stem import PorterStemmer # reduz as palavras ao seu radical\n",
        "\n",
        "nltk.download('stopwords')\n",
        "\n",
        "# Cria um conjunto com as stopwords em inglês\n",
        "stop_words = set(stopwords.words('english'))\n",
        "stemmer = PorterStemmer()\n",
        "\n",
        "def clean_text(text):\n",
        "    text = re.sub(r'\\W', ' ', text) # substitui qualquer caractere que não seja uma letra ou número por espaço\n",
        "\n",
        "    text = text.lower()\n",
        "    text = text.split()\n",
        "\n",
        "    text = [stemmer.stem(word) for word in text if word not in stop_words] # remove stopwords e aplica stemming em cada palavra\n",
        "\n",
        "    return ' '.join(text)\n",
        "\n",
        "df_all['text_clean'] = df_all['title'].apply(clean_text)"
      ]
    },
    {
      "cell_type": "markdown",
      "metadata": {
        "id": "bKQYQc-_fJXs"
      },
      "source": [
        "Vetorização"
      ]
    },
    {
      "cell_type": "code",
      "execution_count": 5,
      "metadata": {
        "id": "4wj3_oODfCfk"
      },
      "outputs": [],
      "source": [
        "from sklearn.feature_extraction.text import TfidfVectorizer\n",
        "\n",
        "vectorizer = TfidfVectorizer(max_features=5000)\n",
        "X = vectorizer.fit_transform(df_all['text_clean']).toarray()\n",
        "y = df_all['label']"
      ]
    },
    {
      "cell_type": "markdown",
      "metadata": {
        "id": "xDGv8WE5fPnj"
      },
      "source": [
        "Divisão dos dados"
      ]
    },
    {
      "cell_type": "code",
      "execution_count": 6,
      "metadata": {
        "id": "3M1zzDuqfNRV"
      },
      "outputs": [],
      "source": [
        "from sklearn.model_selection import train_test_split\n",
        "\n",
        "X_train, X_test, y_train, y_test = train_test_split(X, y, test_size=0.2, random_state=42)"
      ]
    },
    {
      "cell_type": "markdown",
      "metadata": {
        "id": "meciqGt1fWvG"
      },
      "source": [
        "## Algoritmo 1: Random Forest"
      ]
    },
    {
      "cell_type": "code",
      "execution_count": 7,
      "metadata": {
        "colab": {
          "base_uri": "https://localhost:8080/"
        },
        "id": "xI7pA5UsfbbN",
        "outputId": "96b7c572-321b-49f3-fe26-624399966f08"
      },
      "outputs": [
        {
          "name": "stdout",
          "output_type": "stream",
          "text": [
            "Acurácia do conjunto de treino: 0.8986580544573751\n",
            "Acurácia do conjunto de teste: 0.8847438752783965\n",
            "Tempo de execução: 34.99 s\n",
            "              precision    recall  f1-score   support\n",
            "\n",
            "           0       0.89      0.89      0.89      4648\n",
            "           1       0.88      0.88      0.88      4332\n",
            "\n",
            "    accuracy                           0.88      8980\n",
            "   macro avg       0.88      0.88      0.88      8980\n",
            "weighted avg       0.88      0.88      0.88      8980\n",
            "\n"
          ]
        }
      ],
      "source": [
        "from sklearn.ensemble import RandomForestClassifier\n",
        "from sklearn.metrics import accuracy_score, classification_report\n",
        "import time\n",
        "\n",
        "start = time.time()\n",
        "rf = RandomForestClassifier(n_estimators=100, max_depth=15) # aqui da pra tester mais arvores de decisao (talvez testar 1000?)\n",
        "rf.fit(X_train, y_train)\n",
        "y_pred_rf = rf.predict(X_test)\n",
        "y_pred_train_rf = rf.predict(X_train)\n",
        "end = time.time()\n",
        "\n",
        "print(\"Acurácia do conjunto de treino:\", accuracy_score(y_train, y_pred_train_rf))\n",
        "print(\"Acurácia do conjunto de teste:\", accuracy_score(y_test, y_pred_rf))\n",
        "print(\"Tempo de execução:\", round(end - start, 2), \"s\")\n",
        "print(classification_report(y_test, y_pred_rf))"
      ]
    },
    {
      "cell_type": "markdown",
      "metadata": {
        "id": "0LE5HCbqfl3l"
      },
      "source": [
        "## Algoritmo 2:  Multinomial Naive Bayes"
      ]
    },
    {
      "cell_type": "code",
      "execution_count": null,
      "metadata": {
        "id": "nmc7PAPjfs4e"
      },
      "outputs": [],
      "source": [
        "from sklearn.naive_bayes import MultinomialNB\n",
        "\n",
        "start = time.time()\n",
        "nb = MultinomialNB()\n",
        "nb.fit(X_train, y_train)\n",
        "y_pred_nb = nb.predict(X_test)\n",
        "y_pred_train_nb = nb.predict(X_train)\n",
        "end = time.time()\n",
        "\n",
        "print(\"Acurácia do conjunto de treino:\", accuracy_score(y_train, y_pred_train_nb))\n",
        "print(\"Acurácia do conjunto de teste:\", accuracy_score(y_test, y_pred_nb))\n",
        "print(\"Tempo de execução:\", round(end - start, 2), \"s\")\n",
        "print(classification_report(y_test, y_pred_nb))\n"
      ]
    },
    {
      "cell_type": "markdown",
      "metadata": {
        "id": "4Im-Tvgeg7U9"
      },
      "source": [
        "## Gráfico comparando os dois algoritmos"
      ]
    },
    {
      "cell_type": "code",
      "execution_count": null,
      "metadata": {
        "id": "fS7Poftxg-_F"
      },
      "outputs": [],
      "source": [
        "resultados_reais = pd.DataFrame({\n",
        "    'Algoritmo': ['Random Forest (n=100)', 'Naive Bayes'],\n",
        "    'Acurácia': [0.940, 0.925],\n",
        "    'Precisão': [0.94, 0.93],\n",
        "    'Recall': [0.94, 0.92],\n",
        "    'F1-Score': [0.94, 0.92],\n",
        "    'Tempo Execução (s)': [281.48, 0.9]\n",
        "})\n",
        "\n",
        "# Criar gráfico de comparação de métricas reais\n",
        "fig, axs = plt.subplots(2, 2, figsize=(14, 10))\n",
        "metrics = ['Acurácia', 'Precisão', 'Recall', 'F1-Score']\n",
        "\n",
        "for ax, metric in zip(axs.ravel(), metrics):\n",
        "    ax.bar(resultados_reais['Algoritmo'], resultados_reais[metric], color=['#1f77b4', '#ff7f0e'])\n",
        "    ax.set_title(metric)\n",
        "    ax.set_ylim(0.90, 0.96)\n",
        "    ax.set_ylabel(metric)\n",
        "    ax.set_xticklabels(resultados_reais['Algoritmo'], rotation=15, ha='right')\n",
        "\n",
        "plt.tight_layout()\n",
        "\n",
        "# Tabela também\n",
        "resultados_reais.sort_values(by='Acurácia', ascending=False), plt.show()\n"
      ]
    },
    {
      "cell_type": "markdown",
      "metadata": {
        "id": "XWQna8EfiWDv"
      },
      "source": [
        "## Algoritmo 3: Support Vector Machine SVM"
      ]
    },
    {
      "cell_type": "code",
      "execution_count": null,
      "metadata": {
        "id": "F1VGzX9Biao8"
      },
      "outputs": [],
      "source": [
        "from sklearn.svm import LinearSVC\n",
        "from sklearn.metrics import classification_report, accuracy_score\n",
        "\n",
        "start = time.time()\n",
        "\n",
        "# cria o modelo SVM com kernel linear pq e mais rápido e apropriado para texto)\n",
        "svm = LinearSVC()\n",
        "svm.fit(X_train, y_train)\n",
        "y_pred_svm = svm.predict(X_test)\n",
        "y_pred_train_svm = svm.predict(X_train)\n",
        "end = time.time()\n",
        "\n",
        "print(\"Acurácia do conjunto de treino:\", accuracy_score(y_train, y_pred_train_svm))\n",
        "print(\"Acurácia do conjunto de teste:\", accuracy_score(y_test, y_pred_svm))\n",
        "print(\"Tempo de execução:\", round(end - start, 2), \"s\")\n",
        "print(\"Relatório:\\n\", classification_report(y_test, y_pred_svm))"
      ]
    },
    {
      "cell_type": "markdown",
      "metadata": {
        "id": "R5jhdyNskLiM"
      },
      "source": [
        "## Algoritmo 4: KNN"
      ]
    },
    {
      "cell_type": "code",
      "execution_count": null,
      "metadata": {
        "id": "horhYK-tkQXH"
      },
      "outputs": [],
      "source": [
        "from sklearn.neighbors import KNeighborsClassifier\n",
        "\n",
        "start = time.time()\n",
        "\n",
        "# cria o modelo com K=5 vizinhos\n",
        "knn = KNeighborsClassifier(n_neighbors=5)\n",
        "knn.fit(X_train, y_train)\n",
        "y_pred_knn = knn.predict(X_test)\n",
        "y_pred_train_knn = knn.predict(X_train)\n",
        "end = time.time()\n",
        "\n",
        "print(\"Acurácia do conjunto de treino:\", accuracy_score(y_train, y_pred_train_knn))\n",
        "print(\"Acurácia do conjunto de teste:\", accuracy_score(y_test, y_pred_knn))\n",
        "print(\"Tempo de execução:\", round(end - start, 2), \"s\")\n",
        "print(\"Relatório:\\n\", classification_report(y_test, y_pred_knn))"
      ]
    },
    {
      "cell_type": "markdown",
      "metadata": {},
      "source": [
        "## Análise resultados"
      ]
    },
    {
      "cell_type": "code",
      "execution_count": null,
      "metadata": {},
      "outputs": [],
      "source": [
        "import matplotlib.pyplot as plt\n",
        "import numpy as np\n",
        "\n",
        "modelos = ['Random Forest', 'Naive Bayes', 'SVM', 'KNN']\n",
        "\n",
        "acuracia = [0.885, 0.930, 0.947, 0.890]\n",
        "precisao = [0.89, 0.93, 0.95, 0.89]  # Média ponderada dos valores de precisão\n",
        "recall = [0.89, 0.93, 0.95, 0.89]    # Média ponderada dos valores de recall\n",
        "f1_score = [0.88, 0.93, 0.95, 0.89]  # Média ponderada dos valores de F1-score\n",
        "tempo_execucao = [40.83, 1.33, 1.34, 700.43]\n",
        "\n",
        "plt.figure(figsize=(15, 10))\n",
        "\n",
        "# Gráfico 1 - Acurácia\n",
        "plt.subplot(2, 2, 1)\n",
        "bars = plt.bar(modelos, acuracia, color=['#1f77b4', '#ff7f0e', '#2ca02c', '#d62728'])\n",
        "plt.title('Comparação de Acurácia entre Modelos (Conjunto de Teste)')\n",
        "plt.ylabel('Acurácia')\n",
        "plt.ylim(0.8, 1.0)\n",
        "for bar in bars:\n",
        "    height = bar.get_height()\n",
        "    plt.text(bar.get_x() + bar.get_width()/2., height,\n",
        "             f'{height:.3f}', ha='center', va='bottom')\n",
        "\n",
        "# Gráfico 2 - Precisão\n",
        "plt.subplot(2, 2, 2)\n",
        "bars = plt.bar(modelos, precisao, color=['#1f77b4', '#ff7f0e', '#2ca02c', '#d62728'])\n",
        "plt.title('Comparação de Precisão entre Modelos (Média Ponderada)')\n",
        "plt.ylabel('Precisão')\n",
        "plt.ylim(0.8, 1.0)\n",
        "for bar in bars:\n",
        "    height = bar.get_height()\n",
        "    plt.text(bar.get_x() + bar.get_width()/2., height,\n",
        "             f'{height:.3f}', ha='center', va='bottom')\n",
        "\n",
        "# Gráfico 3 - Recall\n",
        "plt.subplot(2, 2, 3)\n",
        "bars = plt.bar(modelos, recall, color=['#1f77b4', '#ff7f0e', '#2ca02c', '#d62728'])\n",
        "plt.title('Comparação de Recall entre Modelos (Média Ponderada)')\n",
        "plt.ylabel('Recall')\n",
        "plt.ylim(0.8, 1.0)\n",
        "for bar in bars:\n",
        "    height = bar.get_height()\n",
        "    plt.text(bar.get_x() + bar.get_width()/2., height,\n",
        "             f'{height:.3f}', ha='center', va='bottom')\n",
        "\n",
        "# Gráfico 4 - F1-Score\n",
        "plt.subplot(2, 2, 4)\n",
        "bars = plt.bar(modelos, f1_score, color=['#1f77b4', '#ff7f0e', '#2ca02c', '#d62728'])\n",
        "plt.title('Comparação de F1-Score entre Modelos (Média Ponderada)')\n",
        "plt.ylabel('F1-Score')\n",
        "plt.ylim(0.8, 1.0)\n",
        "for bar in bars:\n",
        "    height = bar.get_height()\n",
        "    plt.text(bar.get_x() + bar.get_width()/2., height,\n",
        "             f'{height:.3f}', ha='center', va='bottom')\n",
        "\n",
        "plt.tight_layout()\n",
        "plt.show()\n",
        "\n",
        "# Gráfico 5 - Tempo de Execução (escala logarítmica devido ao KNN)\n",
        "plt.figure(figsize=(8, 5))\n",
        "bars = plt.bar(modelos, tempo_execucao, color=['#1f77b4', '#ff7f0e', '#2ca02c', '#d62728'])\n",
        "plt.title('Comparação de Tempo de Execução entre Modelos')\n",
        "plt.ylabel('Tempo (segundos) - Escala Logarítmica')\n",
        "plt.yscale('log')  # Escala logarítmica para melhor visualização\n",
        "for bar in bars:\n",
        "    height = bar.get_height()\n",
        "    plt.text(bar.get_x() + bar.get_width()/2., height,\n",
        "             f'{height:.2f}s', ha='center', va='bottom')\n",
        "plt.show()"
      ]
    },
    {
      "cell_type": "code",
      "execution_count": null,
      "metadata": {},
      "outputs": [],
      "source": [
        "from sklearn.metrics import ConfusionMatrixDisplay\n",
        "import matplotlib.pyplot as plt\n",
        "\n",
        "modelos = {\n",
        "    \"Random Forest\": y_pred_rf,\n",
        "    \"Naive Bayes\": y_pred_nb,\n",
        "    \"Logistic Regression\": y_pred_lr,\n",
        "    \"SVM\": y_pred_svm\n",
        "}\n",
        "\n",
        "# Plota matriz de confusão para cada modelo\n",
        "fig, axs = plt.subplots(2, 2, figsize=(12, 10))\n",
        "axs = axs.flatten()\n",
        "\n",
        "for i, (nome, pred) in enumerate(modelos.items()):\n",
        "    disp = ConfusionMatrixDisplay.from_predictions(y_test, pred, ax=axs[i], cmap=\"Blues\")\n",
        "    axs[i].set_title(nome)\n",
        "\n",
        "plt.tight_layout()\n",
        "plt.show()\n"
      ]
    }
  ],
  "metadata": {
    "colab": {
      "provenance": []
    },
    "kernelspec": {
      "display_name": "Python 3",
      "name": "python3"
    },
    "language_info": {
      "name": "python"
    }
  },
  "nbformat": 4,
  "nbformat_minor": 0
}
